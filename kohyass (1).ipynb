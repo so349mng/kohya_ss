{
  "nbformat": 4,
  "nbformat_minor": 0,
  "metadata": {
    "colab": {
      "provenance": []
    },
    "kernelspec": {
      "name": "python3",
      "display_name": "Python 3"
    },
    "language_info": {
      "name": "python"
    }
  },
  "cells": [
    {
      "cell_type": "code",
      "execution_count": 2,
      "metadata": {
        "colab": {
          "base_uri": "https://localhost:8080/"
        },
        "id": "FbQjhfYiep82",
        "outputId": "bf7667e2-511b-4428-ad5c-07430c9ba9c3"
      },
      "outputs": [
        {
          "output_type": "stream",
          "name": "stdout",
          "text": [
            "Cloning into 'kohya_ss'...\n",
            "remote: Enumerating objects: 8875, done.\u001b[K\n",
            "remote: Counting objects: 100% (3269/3269), done.\u001b[K\n",
            "remote: Compressing objects: 100% (627/627), done.\u001b[K\n",
            "remote: Total 8875 (delta 2772), reused 3050 (delta 2630), pack-reused 5606\u001b[K\n",
            "Receiving objects: 100% (8875/8875), 6.17 MiB | 24.22 MiB/s, done.\n",
            "Resolving deltas: 100% (6184/6184), done.\n"
          ]
        }
      ],
      "source": [
        "!git clone https://github.com/bmaltais/kohya_ss.git"
      ]
    },
    {
      "cell_type": "code",
      "source": [
        "!sudo apt update -y && sudo apt install -y python3-tk"
      ],
      "metadata": {
        "colab": {
          "base_uri": "https://localhost:8080/"
        },
        "id": "163rceQNfcru",
        "outputId": "b387973a-fe50-4f98-8e15-16e56e0b6ec9"
      },
      "execution_count": 8,
      "outputs": [
        {
          "output_type": "stream",
          "name": "stdout",
          "text": [
            "\u001b[33m\r0% [Working]\u001b[0m\r            \rGet:1 https://cloud.r-project.org/bin/linux/ubuntu focal-cran40/ InRelease [3,622 B]\n",
            "\u001b[33m\r0% [Connecting to archive.ubuntu.com (185.125.190.39)] [Connecting to security.\u001b[0m\u001b[33m\r0% [Connecting to archive.ubuntu.com (185.125.190.39)] [Connecting to security.\u001b[0m\r                                                                               \rGet:2 https://developer.download.nvidia.com/compute/cuda/repos/ubuntu2004/x86_64  InRelease [1,581 B]\n",
            "\u001b[33m\r0% [Connected to archive.ubuntu.com (185.125.190.39)] [Waiting for headers] [Wa\u001b[0m\r                                                                               \rHit:3 http://ppa.launchpad.net/c2d4u.team/c2d4u4.0+/ubuntu focal InRelease\n",
            "\u001b[33m\r                                                                               \r0% [Waiting for headers] [Waiting for headers]\u001b[0m\r                                              \rGet:4 http://security.ubuntu.com/ubuntu focal-security InRelease [114 kB]\n",
            "\u001b[33m\r0% [Waiting for headers] [4 InRelease 14.2 kB/114 kB 12%] [Connecting to ppa.la\u001b[0m\r                                                                               \rHit:5 http://archive.ubuntu.com/ubuntu focal InRelease\n",
            "Get:6 http://archive.ubuntu.com/ubuntu focal-updates InRelease [114 kB]\n",
            "Hit:7 http://ppa.launchpad.net/cran/libgit2/ubuntu focal InRelease\n",
            "Get:8 https://developer.download.nvidia.com/compute/cuda/repos/ubuntu2004/x86_64  Packages [1,084 kB]\n",
            "Hit:9 http://ppa.launchpad.net/deadsnakes/ppa/ubuntu focal InRelease\n",
            "Get:10 http://archive.ubuntu.com/ubuntu focal-backports InRelease [108 kB]\n",
            "Hit:11 http://ppa.launchpad.net/graphics-drivers/ppa/ubuntu focal InRelease\n",
            "Hit:12 http://ppa.launchpad.net/ubuntugis/ppa/ubuntu focal InRelease\n",
            "Get:13 http://archive.ubuntu.com/ubuntu focal-updates/main amd64 Packages [3,347 kB]\n",
            "Get:14 http://archive.ubuntu.com/ubuntu focal-updates/universe amd64 Packages [1,372 kB]\n",
            "Fetched 6,145 kB in 2s (3,499 kB/s)\n",
            "Reading package lists... Done\n",
            "Building dependency tree       \n",
            "Reading state information... Done\n",
            "15 packages can be upgraded. Run 'apt list --upgradable' to see them.\n",
            "Reading package lists... Done\n",
            "Building dependency tree       \n",
            "Reading state information... Done\n",
            "The following additional packages will be installed:\n",
            "  blt tk8.6-blt2.5\n",
            "Suggested packages:\n",
            "  blt-demo tix python3-tk-dbg\n",
            "The following NEW packages will be installed:\n",
            "  blt python3-tk tk8.6-blt2.5\n",
            "0 upgraded, 3 newly installed, 0 to remove and 15 not upgraded.\n",
            "Need to get 681 kB of archives.\n",
            "After this operation, 2,947 kB of additional disk space will be used.\n",
            "Get:1 http://archive.ubuntu.com/ubuntu focal/main amd64 tk8.6-blt2.5 amd64 2.5.3+dfsg-4 [572 kB]\n",
            "Get:2 http://archive.ubuntu.com/ubuntu focal/main amd64 blt amd64 2.5.3+dfsg-4 [4,944 B]\n",
            "Get:3 http://archive.ubuntu.com/ubuntu focal-updates/main amd64 python3-tk amd64 3.8.10-0ubuntu1~20.04 [104 kB]\n",
            "Fetched 681 kB in 1s (981 kB/s)\n",
            "debconf: unable to initialize frontend: Dialog\n",
            "debconf: (No usable dialog-like program is installed, so the dialog based frontend cannot be used. at /usr/share/perl5/Debconf/FrontEnd/Dialog.pm line 76, <> line 3.)\n",
            "debconf: falling back to frontend: Readline\n",
            "debconf: unable to initialize frontend: Readline\n",
            "debconf: (This frontend requires a controlling tty.)\n",
            "debconf: falling back to frontend: Teletype\n",
            "dpkg-preconfigure: unable to re-open stdin: \n",
            "Selecting previously unselected package tk8.6-blt2.5.\n",
            "(Reading database ... 123105 files and directories currently installed.)\n",
            "Preparing to unpack .../tk8.6-blt2.5_2.5.3+dfsg-4_amd64.deb ...\n",
            "Unpacking tk8.6-blt2.5 (2.5.3+dfsg-4) ...\n",
            "Selecting previously unselected package blt.\n",
            "Preparing to unpack .../blt_2.5.3+dfsg-4_amd64.deb ...\n",
            "Unpacking blt (2.5.3+dfsg-4) ...\n",
            "Selecting previously unselected package python3-tk:amd64.\n",
            "Preparing to unpack .../python3-tk_3.8.10-0ubuntu1~20.04_amd64.deb ...\n",
            "Unpacking python3-tk:amd64 (3.8.10-0ubuntu1~20.04) ...\n",
            "Setting up tk8.6-blt2.5 (2.5.3+dfsg-4) ...\n",
            "Setting up blt (2.5.3+dfsg-4) ...\n",
            "Setting up python3-tk:amd64 (3.8.10-0ubuntu1~20.04) ...\n",
            "Processing triggers for libc-bin (2.31-0ubuntu9.9) ...\n"
          ]
        }
      ]
    },
    {
      "cell_type": "code",
      "source": [
        "!cd kohya_ss"
      ],
      "metadata": {
        "id": "Ns86fpsoe-c1"
      },
      "execution_count": 3,
      "outputs": []
    },
    {
      "cell_type": "code",
      "source": [
        "!chmod +x /content/kohya_ss/setup.sh"
      ],
      "metadata": {
        "id": "lnrW7Z1rfHGx"
      },
      "execution_count": 5,
      "outputs": []
    },
    {
      "cell_type": "code",
      "source": [
        "!bash /content/kohya_ss/setup.sh"
      ],
      "metadata": {
        "id": "ILBnkJNZfS9Z"
      },
      "execution_count": null,
      "outputs": []
    },
    {
      "cell_type": "code",
      "source": [
        "!bash /content/kohya_ss/gui.sh --listen 127.0.0.1 --server_port 7860 --inbrowser --share"
      ],
      "metadata": {
        "colab": {
          "base_uri": "https://localhost:8080/"
        },
        "id": "Y3Jz-unufsQ3",
        "outputId": "771ccd7a-f1e6-44c2-8f5d-46b080155b21"
      },
      "execution_count": null,
      "outputs": [
        {
          "output_type": "stream",
          "name": "stdout",
          "text": [
            "venv folder does not exist. Not activating...\n",
            "\u001b[2;36m07:10:13-558920\u001b[0m\u001b[2;36m \u001b[0m\u001b[34mINFO    \u001b[0m Version: v21.\u001b[1;36m8.2\u001b[0m                                       \n",
            "\u001b[2;36m07:10:13-567298\u001b[0m\u001b[2;36m \u001b[0m\u001b[34mINFO    \u001b[0m Using CPU-only Torch                                   \n",
            "\u001b[2;36m07:10:15-368205\u001b[0m\u001b[2;36m \u001b[0m\u001b[34mINFO    \u001b[0m Torch \u001b[1;36m2.0\u001b[0m.\u001b[1;36m1\u001b[0m+cu118                                      \n",
            "\u001b[2;36m07:10:15-370416\u001b[0m\u001b[2;36m \u001b[0m\u001b[31mWARNING \u001b[0m Torch reports CUDA not available                       \n",
            "\u001b[2;36m07:10:15-371680\u001b[0m\u001b[2;36m \u001b[0m\u001b[34mINFO    \u001b[0m Verifying modules instalation status from              \n",
            "\u001b[2;36m                \u001b[0m         \u001b[35m/content/kohya_ss/\u001b[0m\u001b[95mrequirements_linux.txt...\u001b[0m            \n",
            "\u001b[2;36m07:10:15-374876\u001b[0m\u001b[2;36m \u001b[0m\u001b[34mINFO    \u001b[0m Verifying modules instalation status from              \n",
            "\u001b[2;36m                \u001b[0m         requirements.txt\u001b[33m...\u001b[0m                                    \n",
            "\u001b[2;36m07:10:18-244974\u001b[0m\u001b[2;36m \u001b[0m\u001b[34mINFO    \u001b[0m headless: \u001b[3;91mFalse\u001b[0m                                        \n",
            "\u001b[2;36m07:10:18-249904\u001b[0m\u001b[2;36m \u001b[0m\u001b[34mINFO    \u001b[0m Load CSS\u001b[33m...\u001b[0m                                            \n",
            "Running on local URL:  http://127.0.0.1:7860\n",
            "Running on public URL: https://e8113eb8d79141ebcb.gradio.live\n",
            "\n",
            "This share link expires in 72 hours. For free permanent hosting and GPU upgrades, run `gradio deploy` from Terminal to deploy to Spaces (https://huggingface.co/spaces)\n"
          ]
        }
      ]
    }
  ]
}